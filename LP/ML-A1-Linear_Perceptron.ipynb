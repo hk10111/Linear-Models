{
 "cells": [
  {
   "cell_type": "code",
   "execution_count": 7,
   "metadata": {},
   "outputs": [],
   "source": [
    "import numpy as np\n",
    "import pandas as pd"
   ]
  },
  {
   "cell_type": "code",
   "execution_count": 8,
   "metadata": {},
   "outputs": [],
   "source": [
    "class Preprocess:\n",
    "    def __init__(self,filename):\n",
    "        self.df = pd.read_csv(filename, header=None)\n",
    "        self.df.insert(0,\"ones\",np.ones((len(self.df),1)),True)\n",
    "    \n",
    "    def train_test_split(self):\n",
    "        rows = len(self.df.index)\n",
    "        cols = len(self.df.columns)\n",
    "        split = 0.7\n",
    "        split_ind = int(split*rows)\n",
    "        shuffled_ind = np.random.permutation(rows)\n",
    "        shuffled_df = self.df.take(shuffled_ind)\n",
    "\n",
    "        x_train = shuffled_df.iloc[:split_ind,:cols-1]\n",
    "        y_train = shuffled_df.iloc[:split_ind,cols-1]\n",
    "        x_test = shuffled_df.iloc[split_ind:,:cols-1]\n",
    "        y_test = shuffled_df.iloc[split_ind:,cols-1]\n",
    "        \n",
    "        return (x_train, y_train, x_test, y_test)"
   ]
  },
  {
   "cell_type": "code",
   "execution_count": 9,
   "metadata": {},
   "outputs": [],
   "source": [
    "class LinearPerceptron:\n",
    "    def __init__(self,x_train,y_train):\n",
    "        self.x_train = x_train\n",
    "        self.y_train = y_train\n",
    "        self.X = x_train.to_numpy()\n",
    "        self.Y = y_train.to_numpy()\n",
    "        self.coef = np.zeros((len(self.X[0])))\n",
    "        self.train_err = []\n",
    "    \n",
    "    def predict(self,x):\n",
    "        return np.array([1 if k>0 else 0 for k in np.dot(x,self.coef)])\n",
    "    \n",
    "    def fit(self,epochs):\n",
    "        print(\"Running Linear Perceptron\")\n",
    "        N = len(self.X)\n",
    "        arr = []\n",
    "        i = 0\n",
    "        m = 0\n",
    "        while True:\n",
    "            m = 0\n",
    "            \n",
    "            for j in range(self.X.shape[0]):\n",
    "                if i>epochs:\n",
    "                    break\n",
    "                temp = np.dot(self.coef, self.X[j])\n",
    "                curr_y = 1 if temp > 0 else 0\n",
    "                if self.Y[j] != curr_y:\n",
    "                    self.coef = self.coef + (self.Y[j]-curr_y)*self.X[j]\n",
    "                    m=m+1\n",
    "                i=i+1\n",
    "            \n",
    "            if i>epochs or m==0:\n",
    "                break\n",
    "            \n",
    "        print(\"Finished Linear Perceptron - misclassifications : {}\".format(m))\n",
    "        return self.coef"
   ]
  },
  {
   "cell_type": "code",
   "execution_count": 10,
   "metadata": {},
   "outputs": [],
   "source": [
    "def find_err(lp_curr, x_curr, y_curr):\n",
    "    error = 0\n",
    "    N = y_curr.shape[0]\n",
    "    predicted = lp_curr.predict(x_curr)\n",
    "    for i in range(N):\n",
    "        if predicted[i]!=y_curr[i]:\n",
    "            error = error + 1\n",
    "    return (error/N)*100"
   ]
  },
  {
   "cell_type": "code",
   "execution_count": 11,
   "metadata": {},
   "outputs": [
    {
     "name": "stdout",
     "output_type": "stream",
     "text": [
      "Running Linear Perceptron\n",
      "Finished Linear Perceptron - misclassifications : 12\n",
      "Training Accuracy is : 98.02083333333333%\n",
      "Testing Accuracy is : 97.0873786407767%\n"
     ]
    }
   ],
   "source": [
    "prep_data1 = Preprocess(\"dataset_LP_1.txt\")\n",
    "(x_train1, y_train1, x_test1, y_test1) = prep_data1.train_test_split()\n",
    "lp1 = LinearPerceptron(x_train1, y_train1)\n",
    "lp1.fit(1000000)\n",
    "print(\"Training Accuracy is : {}%\".format(100-find_err(lp1,x_train1.to_numpy(),y_train1.to_numpy())))\n",
    "print(\"Testing Accuracy is : {}%\".format(100-find_err(lp1,x_test1.to_numpy(),y_test1.to_numpy())))"
   ]
  },
  {
   "cell_type": "code",
   "execution_count": 12,
   "metadata": {},
   "outputs": [
    {
     "name": "stdout",
     "output_type": "stream",
     "text": [
      "Running Linear Perceptron\n",
      "Finished Linear Perceptron - misclassifications : 0\n",
      "Training Accuracy is : 100.0%\n",
      "Testing Accuracy is : 100.0%\n"
     ]
    }
   ],
   "source": [
    "prep_data2 = Preprocess(\"dataset_LP_2.csv\")\n",
    "(x_train2, y_train2, x_test2, y_test2) = prep_data2.train_test_split()\n",
    "lp2 = LinearPerceptron(x_train2, y_train2)\n",
    "lp2.fit(1000000)\n",
    "print(\"Training Accuracy is : {}%\".format(100-find_err(lp2,x_train2.to_numpy(),y_train2.to_numpy())))\n",
    "print(\"Testing Accuracy is : {}%\".format(100-find_err(lp2,x_test2.to_numpy(),y_test2.to_numpy())))"
   ]
  },
  {
   "cell_type": "code",
   "execution_count": null,
   "metadata": {},
   "outputs": [],
   "source": []
  },
  {
   "cell_type": "code",
   "execution_count": null,
   "metadata": {},
   "outputs": [],
   "source": []
  },
  {
   "cell_type": "code",
   "execution_count": null,
   "metadata": {},
   "outputs": [],
   "source": []
  },
  {
   "cell_type": "code",
   "execution_count": null,
   "metadata": {},
   "outputs": [],
   "source": []
  },
  {
   "cell_type": "code",
   "execution_count": null,
   "metadata": {},
   "outputs": [],
   "source": []
  }
 ],
 "metadata": {
  "kernelspec": {
   "display_name": "Python 3",
   "language": "python",
   "name": "python3"
  },
  "language_info": {
   "codemirror_mode": {
    "name": "ipython",
    "version": 3
   },
   "file_extension": ".py",
   "mimetype": "text/x-python",
   "name": "python",
   "nbconvert_exporter": "python",
   "pygments_lexer": "ipython3",
   "version": "3.8.6"
  }
 },
 "nbformat": 4,
 "nbformat_minor": 4
}
